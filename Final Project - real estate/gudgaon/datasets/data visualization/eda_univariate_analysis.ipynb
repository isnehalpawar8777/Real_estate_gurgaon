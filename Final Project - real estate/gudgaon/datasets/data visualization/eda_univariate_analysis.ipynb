{
 "cells": [
  {
   "cell_type": "code",
   "execution_count": 61,
   "id": "df9822e5-15e6-463b-b788-065327732351",
   "metadata": {},
   "outputs": [],
   "source": [
    "import pandas as pd\n",
    "import numpy as np\n",
    "import matplotlib.pyplot as plt\n",
    "import seaborn as sns"
   ]
  },
  {
   "cell_type": "code",
   "execution_count": 62,
   "id": "b6b8a4b8-9513-407d-82f2-e35421b50d09",
   "metadata": {},
   "outputs": [],
   "source": [
    "df=pd.read_csv(\"gurgaon_properties_cleaned_v2.csv\")"
   ]
  },
  {
   "cell_type": "code",
   "execution_count": 63,
   "id": "4b545e76-1e72-4839-8ffd-3643f4dcecb6",
   "metadata": {},
   "outputs": [
    {
     "data": {
      "text/plain": [
       "(3841, 24)"
      ]
     },
     "execution_count": 63,
     "metadata": {},
     "output_type": "execute_result"
    }
   ],
   "source": [
    "df.shape"
   ]
  },
  {
   "cell_type": "code",
   "execution_count": 64,
   "id": "cba3fc81-589a-44b7-bc48-5392a4cbae7c",
   "metadata": {},
   "outputs": [
    {
     "data": {
      "text/html": [
       "<div>\n",
       "<style scoped>\n",
       "    .dataframe tbody tr th:only-of-type {\n",
       "        vertical-align: middle;\n",
       "    }\n",
       "\n",
       "    .dataframe tbody tr th {\n",
       "        vertical-align: top;\n",
       "    }\n",
       "\n",
       "    .dataframe thead th {\n",
       "        text-align: right;\n",
       "    }\n",
       "</style>\n",
       "<table border=\"1\" class=\"dataframe\">\n",
       "  <thead>\n",
       "    <tr style=\"text-align: right;\">\n",
       "      <th></th>\n",
       "      <th>property_type</th>\n",
       "      <th>society</th>\n",
       "      <th>sector</th>\n",
       "      <th>price_cr</th>\n",
       "      <th>price_per_sqft</th>\n",
       "      <th>area</th>\n",
       "      <th>areaWithType</th>\n",
       "      <th>bedRoom</th>\n",
       "      <th>bathroom</th>\n",
       "      <th>balcony</th>\n",
       "      <th>...</th>\n",
       "      <th>built_up_area</th>\n",
       "      <th>carpet_area</th>\n",
       "      <th>study room</th>\n",
       "      <th>servant room</th>\n",
       "      <th>store room</th>\n",
       "      <th>pooja room</th>\n",
       "      <th>others</th>\n",
       "      <th>furnishing_type</th>\n",
       "      <th>luxury_score</th>\n",
       "      <th>nearbyLoc_score</th>\n",
       "    </tr>\n",
       "  </thead>\n",
       "  <tbody>\n",
       "    <tr>\n",
       "      <th>0</th>\n",
       "      <td>flat</td>\n",
       "      <td>experion the heartsong</td>\n",
       "      <td>sector 108</td>\n",
       "      <td>3.00</td>\n",
       "      <td>18392.0</td>\n",
       "      <td>1631.0</td>\n",
       "      <td>Super Built up area 2779(258.18 sq.m.)Built Up...</td>\n",
       "      <td>4</td>\n",
       "      <td>5</td>\n",
       "      <td>3+</td>\n",
       "      <td>...</td>\n",
       "      <td>2204.25</td>\n",
       "      <td>1631.07</td>\n",
       "      <td>0</td>\n",
       "      <td>1</td>\n",
       "      <td>0</td>\n",
       "      <td>0</td>\n",
       "      <td>0</td>\n",
       "      <td>1</td>\n",
       "      <td>149</td>\n",
       "      <td>58</td>\n",
       "    </tr>\n",
       "    <tr>\n",
       "      <th>1</th>\n",
       "      <td>flat</td>\n",
       "      <td>tulip violet</td>\n",
       "      <td>sector 69</td>\n",
       "      <td>1.37</td>\n",
       "      <td>8675.0</td>\n",
       "      <td>1579.0</td>\n",
       "      <td>Super Built up area 1578(146.6 sq.m.)Carpet ar...</td>\n",
       "      <td>3</td>\n",
       "      <td>3</td>\n",
       "      <td>1</td>\n",
       "      <td>...</td>\n",
       "      <td>NaN</td>\n",
       "      <td>1538.00</td>\n",
       "      <td>0</td>\n",
       "      <td>0</td>\n",
       "      <td>0</td>\n",
       "      <td>1</td>\n",
       "      <td>0</td>\n",
       "      <td>0</td>\n",
       "      <td>95</td>\n",
       "      <td>61</td>\n",
       "    </tr>\n",
       "  </tbody>\n",
       "</table>\n",
       "<p>2 rows × 24 columns</p>\n",
       "</div>"
      ],
      "text/plain": [
       "  property_type                 society      sector  price_cr  price_per_sqft  \\\n",
       "0          flat  experion the heartsong  sector 108      3.00         18392.0   \n",
       "1          flat            tulip violet   sector 69      1.37          8675.0   \n",
       "\n",
       "     area                                       areaWithType  bedRoom  \\\n",
       "0  1631.0  Super Built up area 2779(258.18 sq.m.)Built Up...        4   \n",
       "1  1579.0  Super Built up area 1578(146.6 sq.m.)Carpet ar...        3   \n",
       "\n",
       "   bathroom balcony  ...  built_up_area carpet_area study room  servant room  \\\n",
       "0         5      3+  ...        2204.25     1631.07          0             1   \n",
       "1         3       1  ...            NaN     1538.00          0             0   \n",
       "\n",
       "   store room  pooja room  others  furnishing_type  luxury_score  \\\n",
       "0           0           0       0                1           149   \n",
       "1           0           1       0                0            95   \n",
       "\n",
       "   nearbyLoc_score  \n",
       "0               58  \n",
       "1               61  \n",
       "\n",
       "[2 rows x 24 columns]"
      ]
     },
     "execution_count": 64,
     "metadata": {},
     "output_type": "execute_result"
    }
   ],
   "source": [
    "df.head(2)"
   ]
  },
  {
   "cell_type": "code",
   "execution_count": 65,
   "id": "ddafcc54-cbe5-48da-8b01-f3840b0cd0e9",
   "metadata": {},
   "outputs": [
    {
     "name": "stdout",
     "output_type": "stream",
     "text": [
      "<class 'pandas.core.frame.DataFrame'>\n",
      "RangeIndex: 3841 entries, 0 to 3840\n",
      "Data columns (total 24 columns):\n",
      " #   Column               Non-Null Count  Dtype  \n",
      "---  ------               --------------  -----  \n",
      " 0   property_type        3841 non-null   object \n",
      " 1   society              3840 non-null   object \n",
      " 2   sector               3841 non-null   object \n",
      " 3   price_cr             3824 non-null   float64\n",
      " 4   price_per_sqft       3824 non-null   float64\n",
      " 5   area                 3824 non-null   float64\n",
      " 6   areaWithType         3841 non-null   object \n",
      " 7   bedRoom              3841 non-null   int64  \n",
      " 8   bathroom             3841 non-null   int64  \n",
      " 9   balcony              3841 non-null   object \n",
      " 10  floorNum             3821 non-null   float64\n",
      " 11  facing               2723 non-null   object \n",
      " 12  agePossession        3841 non-null   object \n",
      " 13  super_built_up_area  1915 non-null   float64\n",
      " 14  built_up_area        1766 non-null   float64\n",
      " 15  carpet_area          1956 non-null   float64\n",
      " 16  study room           3841 non-null   int64  \n",
      " 17  servant room         3841 non-null   int64  \n",
      " 18  store room           3841 non-null   int64  \n",
      " 19  pooja room           3841 non-null   int64  \n",
      " 20  others               3841 non-null   int64  \n",
      " 21  furnishing_type      3841 non-null   int64  \n",
      " 22  luxury_score         3841 non-null   int64  \n",
      " 23  nearbyLoc_score      3841 non-null   int64  \n",
      "dtypes: float64(7), int64(10), object(7)\n",
      "memory usage: 720.3+ KB\n"
     ]
    }
   ],
   "source": [
    "df.info()"
   ]
  },
  {
   "cell_type": "code",
   "execution_count": 66,
   "id": "81acb31c-1200-465b-a32e-06edc3c50b7f",
   "metadata": {},
   "outputs": [
    {
     "data": {
      "text/plain": [
       "121"
      ]
     },
     "execution_count": 66,
     "metadata": {},
     "output_type": "execute_result"
    }
   ],
   "source": [
    "df.duplicated().sum()"
   ]
  },
  {
   "cell_type": "code",
   "execution_count": 67,
   "id": "6a355eab-f449-414e-8e15-6e8c1c1e9d20",
   "metadata": {},
   "outputs": [],
   "source": [
    "df.drop_duplicates(inplace=True)"
   ]
  },
  {
   "cell_type": "code",
   "execution_count": 68,
   "id": "8ce688b1-09b6-4861-a8f1-21e0e5d931b2",
   "metadata": {},
   "outputs": [
    {
     "data": {
      "text/plain": [
       "(3720, 24)"
      ]
     },
     "execution_count": 68,
     "metadata": {},
     "output_type": "execute_result"
    }
   ],
   "source": [
    "df.shape"
   ]
  },
  {
   "cell_type": "code",
   "execution_count": 69,
   "id": "dfe92884-4b34-4f08-b353-18dff73f3c95",
   "metadata": {},
   "outputs": [
    {
     "data": {
      "text/plain": [
       "property_type             0\n",
       "society                   1\n",
       "sector                    0\n",
       "price_cr                 16\n",
       "price_per_sqft           16\n",
       "area                     16\n",
       "areaWithType              0\n",
       "bedRoom                   0\n",
       "bathroom                  0\n",
       "balcony                   0\n",
       "floorNum                 20\n",
       "facing                 1061\n",
       "agePossession             0\n",
       "super_built_up_area    1844\n",
       "built_up_area          1995\n",
       "carpet_area            1833\n",
       "study room                0\n",
       "servant room              0\n",
       "store room                0\n",
       "pooja room                0\n",
       "others                    0\n",
       "furnishing_type           0\n",
       "luxury_score              0\n",
       "nearbyLoc_score           0\n",
       "dtype: int64"
      ]
     },
     "execution_count": 69,
     "metadata": {},
     "output_type": "execute_result"
    }
   ],
   "source": [
    "df.isna().sum()"
   ]
  },
  {
   "cell_type": "markdown",
   "id": "0cc5d899-7724-4e84-9ce8-a79a51f28322",
   "metadata": {},
   "source": [
    "## Property_types"
   ]
  },
  {
   "cell_type": "code",
   "execution_count": 70,
   "id": "223f9a79-3b76-470b-a03c-8333bddd761c",
   "metadata": {},
   "outputs": [
    {
     "data": {
      "image/png": "[encoded data removed]",
      "text/plain": [
       "<Figure size 640x480 with 1 Axes>"
      ]
     },
     "metadata": {},
     "output_type": "display_data"
    }
   ],
   "source": [
    "ax=df.property_type.value_counts().plot(kind='bar')\n",
    "\n",
    "# Annotate each bar with its count\n",
    "for p in ax.patches:\n",
    "    ax.annotate(f'{p.get_height()}', (p.get_x() + p.get_width() / 2., p.get_height()), ha='center', va='center', fontsize=12, color='black', xytext=(0, 5), textcoords='offset points')\n",
    "\n",
    "# Set labels and title\n",
    "plt.xlabel('Property Type')\n",
    "plt.ylabel('Count')\n",
    "plt.title('Count of Each Property Type')\n",
    "\n",
    "plt.show()"
   ]
  },
  {
   "cell_type": "markdown",
   "id": "d53b25ac-f0a3-454f-8586-4ac686cd5429",
   "metadata": {},
   "source": [
    "- No missing values\n",
    "- 25% are houses and 75% are flats"
   ]
  },
  {
   "cell_type": "markdown",
   "id": "e48a996f-aa58-403e-aeff-54e25d4a39ee",
   "metadata": {},
   "source": [
    "## society"
   ]
  },
  {
   "cell_type": "code",
   "execution_count": 71,
   "id": "755d5dcd-5ddc-4d52-ba87-71e404125f5a",
   "metadata": {},
   "outputs": [
    {
     "data": {
      "text/plain": [
       "(682,)"
      ]
     },
     "execution_count": 71,
     "metadata": {},
     "output_type": "execute_result"
    }
   ],
   "source": [
    "df.society.value_counts().shape"
   ]
  },
  {
   "cell_type": "code",
   "execution_count": 72,
   "id": "0b3ceba3-dd36-4085-9072-812dccfd8a15",
   "metadata": {},
   "outputs": [
    {
     "data": {
      "text/plain": [
       "count            3719\n",
       "unique            682\n",
       "top       independent\n",
       "freq              512\n",
       "Name: society, dtype: object"
      ]
     },
     "execution_count": 72,
     "metadata": {},
     "output_type": "execute_result"
    }
   ],
   "source": [
    "df.society.describe()"
   ]
  },
  {
   "cell_type": "code",
   "execution_count": 73,
   "id": "db57a605-d3d9-45af-b2eb-375c773c563b",
   "metadata": {},
   "outputs": [
    {
     "data": {
      "text/plain": [
       "independent                                 512\n",
       "tulip violet                                 75\n",
       "ss the leaf                                  73\n",
       "dlf new town heights                         42\n",
       "shapoorji pallonji joyville gurugram         42\n",
       "                                           ... \n",
       "la lagune                                     1\n",
       "tashee capital gateway                        1\n",
       "the nav manesar apartment                     1\n",
       "central park resort belgravia residences      1\n",
       "sbr minda sec 1 imt manesar                   1\n",
       "Name: society, Length: 682, dtype: int64"
      ]
     },
     "execution_count": 73,
     "metadata": {},
     "output_type": "execute_result"
    }
   ],
   "source": [
    "df.society.value_counts()"
   ]
  },
  {
   "cell_type": "code",
   "execution_count": 74,
   "id": "c3906f41-a502-4509-b1c1-ee3f9a3f9464",
   "metadata": {},
   "outputs": [
    {
     "data": {
      "text/plain": [
       "tulip violet                            0.023386\n",
       "ss the leaf                             0.046149\n",
       "dlf new town heights                    0.059245\n",
       "shapoorji pallonji joyville gurugram    0.072342\n",
       "signature global park                   0.083255\n",
       "                                          ...   \n",
       "dlf the primus                          0.488307\n",
       "umang monsoon breeze                    0.492360\n",
       "indiabulls enigma                       0.496414\n",
       "the close north                         0.500468\n",
       "ireo the corridors                      0.504210\n",
       "Name: society, Length: 75, dtype: float64"
      ]
     },
     "execution_count": 74,
     "metadata": {},
     "output_type": "execute_result"
    }
   ],
   "source": [
    "df[df['society'] != 'independent']['society'].value_counts(normalize=True).cumsum().head(75)"
   ]
  },
  {
   "cell_type": "code",
   "execution_count": 75,
   "id": "214e9bd4-b1dc-427d-8c1b-074bd4e34720",
   "metadata": {},
   "outputs": [
    {
     "data": {
      "text/plain": [
       "{'Very High (>100)': 1,\n",
       " 'High (50-100)': 2,\n",
       " 'Average (10-49)': 92,\n",
       " 'Low (2-9)': 277,\n",
       " 'Very Low (1)': 310}"
      ]
     },
     "execution_count": 75,
     "metadata": {},
     "output_type": "execute_result"
    }
   ],
   "source": [
    "society_counts = df['society'].value_counts()\n",
    "\n",
    "# Frequency distribution for societies\n",
    "frequency_bins = {\n",
    "    \"Very High (>100)\": (society_counts > 100).sum(),\n",
    "    \"High (50-100)\": ((society_counts >= 50) & (society_counts <= 100)).sum(),\n",
    "    \"Average (10-49)\": ((society_counts >= 10) & (society_counts < 50)).sum(),\n",
    "    \"Low (2-9)\": ((society_counts > 1) & (society_counts < 10)).sum(),\n",
    "    \"Very Low (1)\": (society_counts == 1).sum()\n",
    "}\n",
    "frequency_bins"
   ]
  },
  {
   "cell_type": "code",
   "execution_count": 76,
   "id": "af2c81cd-7465-427c-bf44-df455db72f5e",
   "metadata": {},
   "outputs": [
    {
     "data": {
      "text/plain": [
       "<Axes: >"
      ]
     },
     "execution_count": 76,
     "metadata": {},
     "output_type": "execute_result"
    },
    {
     "data": {
      "image/png": "[encoded data removed]",
      "text/plain": [
       "<Figure size 640x480 with 1 Axes>"
      ]
     },
     "metadata": {},
     "output_type": "display_data"
    }
   ],
   "source": [
    "df[df['society'] != 'independent']['society'].value_counts().head(10).plot(kind='bar')"
   ]
  },
  {
   "cell_type": "code",
   "execution_count": 77,
   "id": "feffb7c2-4a85-41b6-b23a-1c04b362c823",
   "metadata": {},
   "outputs": [
    {
     "data": {
      "text/plain": [
       "1"
      ]
     },
     "execution_count": 77,
     "metadata": {},
     "output_type": "execute_result"
    }
   ],
   "source": [
    "df['society'].isnull().sum()"
   ]
  },
  {
   "cell_type": "code",
   "execution_count": 78,
   "id": "31351d53-6037-4480-b49f-df8b5b096859",
   "metadata": {},
   "outputs": [
    {
     "data": {
      "text/html": [
       "<div>\n",
       "<style scoped>\n",
       "    .dataframe tbody tr th:only-of-type {\n",
       "        vertical-align: middle;\n",
       "    }\n",
       "\n",
       "    .dataframe tbody tr th {\n",
       "        vertical-align: top;\n",
       "    }\n",
       "\n",
       "    .dataframe thead th {\n",
       "        text-align: right;\n",
       "    }\n",
       "</style>\n",
       "<table border=\"1\" class=\"dataframe\">\n",
       "  <thead>\n",
       "    <tr style=\"text-align: right;\">\n",
       "      <th></th>\n",
       "      <th>property_type</th>\n",
       "      <th>society</th>\n",
       "      <th>sector</th>\n",
       "      <th>price_cr</th>\n",
       "      <th>price_per_sqft</th>\n",
       "      <th>area</th>\n",
       "      <th>areaWithType</th>\n",
       "      <th>bedRoom</th>\n",
       "      <th>bathroom</th>\n",
       "      <th>balcony</th>\n",
       "      <th>...</th>\n",
       "      <th>built_up_area</th>\n",
       "      <th>carpet_area</th>\n",
       "      <th>study room</th>\n",
       "      <th>servant room</th>\n",
       "      <th>store room</th>\n",
       "      <th>pooja room</th>\n",
       "      <th>others</th>\n",
       "      <th>furnishing_type</th>\n",
       "      <th>luxury_score</th>\n",
       "      <th>nearbyLoc_score</th>\n",
       "    </tr>\n",
       "  </thead>\n",
       "  <tbody>\n",
       "    <tr>\n",
       "      <th>2192</th>\n",
       "      <td>flat</td>\n",
       "      <td>NaN</td>\n",
       "      <td>sector 78</td>\n",
       "      <td>0.6</td>\n",
       "      <td>3692.0</td>\n",
       "      <td>1625.0</td>\n",
       "      <td>Built Up area: 1625 (150.97 sq.m.)</td>\n",
       "      <td>2</td>\n",
       "      <td>2</td>\n",
       "      <td>0</td>\n",
       "      <td>...</td>\n",
       "      <td>1625.0</td>\n",
       "      <td>NaN</td>\n",
       "      <td>0</td>\n",
       "      <td>0</td>\n",
       "      <td>0</td>\n",
       "      <td>0</td>\n",
       "      <td>0</td>\n",
       "      <td>0</td>\n",
       "      <td>0</td>\n",
       "      <td>0</td>\n",
       "    </tr>\n",
       "  </tbody>\n",
       "</table>\n",
       "<p>1 rows × 24 columns</p>\n",
       "</div>"
      ],
      "text/plain": [
       "     property_type society     sector  price_cr  price_per_sqft    area  \\\n",
       "2192          flat     NaN  sector 78       0.6          3692.0  1625.0   \n",
       "\n",
       "                            areaWithType  bedRoom  bathroom balcony  ...  \\\n",
       "2192  Built Up area: 1625 (150.97 sq.m.)        2         2       0  ...   \n",
       "\n",
       "      built_up_area carpet_area study room  servant room  store room  \\\n",
       "2192         1625.0         NaN          0             0           0   \n",
       "\n",
       "      pooja room  others  furnishing_type  luxury_score  nearbyLoc_score  \n",
       "2192           0       0                0             0                0  \n",
       "\n",
       "[1 rows x 24 columns]"
      ]
     },
     "execution_count": 78,
     "metadata": {},
     "output_type": "execute_result"
    }
   ],
   "source": [
    "df[df['society'].isnull()]"
   ]
  },
  {
   "cell_type": "markdown",
   "id": "ca26d208-e5f3-4f06-8546-18d5a2caffda",
   "metadata": {},
   "source": [
    "## Observations\n",
    "- independent tags = 13% (512independent*100/3841(total))\n",
    "- there are 682 societies\n",
    "- top 75 societies have 50% properties and remaining 50% properties are in those 607 societies :\n",
    " - Very High (>100): Only 1 society has more than 100 listings.\r",
    " - \n",
    "High (50-100): 2 societies have between 50 to 100 listings\n",
    " - \r\n",
    "Average (10-49): 92 societies fall in this range with 10 to 49 listings each - .\r\n",
    "Low (2-9): 273 societies have between 2 to 9 listing - s.\r\n",
    "Very Low (1): A significant number, 308 societies, have only 1 list\n",
    " - 1 missing valueing."
   ]
  },
  {
   "cell_type": "markdown",
   "id": "f0b9dea9-a101-4e46-9385-f7c7069b32a9",
   "metadata": {},
   "source": [
    "## Sector"
   ]
  },
  {
   "cell_type": "code",
   "execution_count": 79,
   "id": "2656157a-07c8-40cd-98d7-9c98e1f4a058",
   "metadata": {},
   "outputs": [
    {
     "data": {
      "text/plain": [
       "0"
      ]
     },
     "execution_count": 79,
     "metadata": {},
     "output_type": "execute_result"
    }
   ],
   "source": [
    "df.sector.isna().sum()"
   ]
  },
  {
   "cell_type": "code",
   "execution_count": 80,
   "id": "f01a6b04-a166-4b20-b34e-599fc510c3ac",
   "metadata": {},
   "outputs": [
    {
     "data": {
      "text/plain": [
       "(107,)"
      ]
     },
     "execution_count": 80,
     "metadata": {},
     "output_type": "execute_result"
    }
   ],
   "source": [
    "df.sector.value_counts().shape"
   ]
  },
  {
   "cell_type": "code",
   "execution_count": 81,
   "id": "d820c3c7-8f0b-4e1f-85f3-28ccf83e69f6",
   "metadata": {},
   "outputs": [
    {
     "data": {
      "text/plain": [
       "<Axes: >"
      ]
     },
     "execution_count": 81,
     "metadata": {},
     "output_type": "execute_result"
    },
    {
     "data": {
      "image/png": "[encoded data removed]",
      "text/plain": [
       "<Figure size 640x480 with 1 Axes>"
      ]
     },
     "metadata": {},
     "output_type": "display_data"
    }
   ],
   "source": [
    "df.sector.value_counts().head(10).plot(kind='bar')"
   ]
  },
  {
   "cell_type": "code",
   "execution_count": 82,
   "id": "93a8d05a-246f-4039-8679-3e2e0b826679",
   "metadata": {},
   "outputs": [
    {
     "data": {
      "text/plain": [
       "sohna road    168\n",
       "sector 85     108\n",
       "sector 102    107\n",
       "sector 92     100\n",
       "sector 69      93\n",
       "             ... \n",
       "sector 27       3\n",
       "sector 37       3\n",
       "sector 73       3\n",
       "sector 32       2\n",
       "sector 42       1\n",
       "Name: sector, Length: 107, dtype: int64"
      ]
     },
     "execution_count": 82,
     "metadata": {},
     "output_type": "execute_result"
    }
   ],
   "source": [
    "df.sector.value_counts()"
   ]
  },
  {
   "cell_type": "code",
   "execution_count": 83,
   "id": "5f8f744c-b29a-4ff4-b396-0677af02dc21",
   "metadata": {},
   "outputs": [
    {
     "data": {
      "text/plain": [
       "{'Very High (>100)': 3,\n",
       " 'High (50-100)': 26,\n",
       " 'Average (10-49)': 61,\n",
       " 'Low (2-9)': 16,\n",
       " 'Very Low (1)': 1}"
      ]
     },
     "execution_count": 83,
     "metadata": {},
     "output_type": "execute_result"
    }
   ],
   "source": [
    "sector_counts = df['sector'].value_counts()\n",
    "\n",
    "# Frequency distribution for sectors\n",
    "sector_frequency_bins = {\n",
    "    \"Very High (>100)\": (sector_counts > 100).sum(),\n",
    "    \"High (50-100)\": ((sector_counts >= 50) & (sector_counts <= 100)).sum(),\n",
    "    \"Average (10-49)\": ((sector_counts >= 10) & (sector_counts < 50)).sum(),\n",
    "    \"Low (2-9)\": ((sector_counts > 1) & (sector_counts < 10)).sum(),\n",
    "    \"Very Low (1)\": (sector_counts == 1).sum()\n",
    "}\n",
    "sector_frequency_bins"
   ]
  },
  {
   "cell_type": "markdown",
   "id": "446852b4-797c-49a1-af84-45ea73022b26",
   "metadata": {},
   "source": [
    "- There are 107 unique sectors in dataset\n",
    "- frequency distribution of sector is as follows:\n",
    "-Very High (>100): 3 sectors have more than 100 listings.\r",
    "-\n",
    "High (50-100): 25 sectors have between 50 to 100 listings.-\r\n",
    "Average (10-49): A majority, 60 sectors, fall in this range with 10 to 49 listings each-.\r\n",
    "Low (2-9): 16 sectors have between 2 to 9 listing-s.\r\n",
    "Very Low (1): Interestingly, there are no sectors with only 1 list\n",
    "- there is no null valueing."
   ]
  },
  {
   "cell_type": "markdown",
   "id": "0d56a7e8-3a51-46de-92f8-c6278e28ab94",
   "metadata": {},
   "source": [
    "## Price_cr"
   ]
  },
  {
   "cell_type": "code",
   "execution_count": 84,
   "id": "3b783cf9-7c7e-47c7-bf0b-9de792daf511",
   "metadata": {},
   "outputs": [
    {
     "data": {
      "text/plain": [
       "Index(['property_type', 'society', 'sector', 'price_cr', 'price_per_sqft',\n",
       "       'area', 'areaWithType', 'bedRoom', 'bathroom', 'balcony', 'floorNum',\n",
       "       'facing', 'agePossession', 'super_built_up_area', 'built_up_area',\n",
       "       'carpet_area', 'study room', 'servant room', 'store room', 'pooja room',\n",
       "       'others', 'furnishing_type', 'luxury_score', 'nearbyLoc_score'],\n",
       "      dtype='object')"
      ]
     },
     "execution_count": 84,
     "metadata": {},
     "output_type": "execute_result"
    }
   ],
   "source": [
    "df.columns"
   ]
  },
  {
   "cell_type": "code",
   "execution_count": 85,
   "id": "7f289802-5f16-43ea-b046-9bbb99c34937",
   "metadata": {},
   "outputs": [
    {
     "data": {
      "text/plain": [
       "16"
      ]
     },
     "execution_count": 85,
     "metadata": {},
     "output_type": "execute_result"
    }
   ],
   "source": [
    "df['price_cr'].isnull().sum()"
   ]
  },
  {
   "cell_type": "code",
   "execution_count": 86,
   "id": "d6fca9ba-618b-439d-98c8-fd3f521e6467",
   "metadata": {},
   "outputs": [
    {
     "data": {
      "text/plain": [
       "count    3704.000000\n",
       "mean        2.530300\n",
       "std         2.973059\n",
       "min         0.070000\n",
       "25%         0.950000\n",
       "50%         1.520000\n",
       "75%         2.750000\n",
       "max        31.500000\n",
       "Name: price_cr, dtype: float64"
      ]
     },
     "execution_count": 86,
     "metadata": {},
     "output_type": "execute_result"
    }
   ],
   "source": [
    "df['price_cr'].describe()"
   ]
  },
  {
   "cell_type": "code",
   "execution_count": 87,
   "id": "585bcda0-c69b-408a-88d5-2f22eac5a1dc",
   "metadata": {},
   "outputs": [
    {
     "data": {
      "text/plain": [
       "<Axes: xlabel='price_cr', ylabel='Count'>"
      ]
     },
     "execution_count": 87,
     "metadata": {},
     "output_type": "execute_result"
    },
    {
     "data": {
      "image/png": "[encoded data removed]",
      "text/plain": [
       "<Figure size 640x480 with 1 Axes>"
      ]
     },
     "metadata": {},
     "output_type": "display_data"
    }
   ],
   "source": [
    "sns.histplot(df['price_cr'],kde=True,bins=50)"
   ]
  },
  {
   "cell_type": "code",
   "execution_count": 88,
   "id": "b6d165a3-839c-45a2-a227-7c5fc9d469ff",
   "metadata": {},
   "outputs": [
    {
     "data": {
      "image/png": "[encoded data removed]",
      "text/plain": [
       "<Figure size 640x480 with 1 Axes>"
      ]
     },
     "metadata": {},
     "output_type": "display_data"
    }
   ],
   "source": [
    "sns.boxplot(x=df['price_cr'],color='red',)\n",
    "plt.grid()"
   ]
  },
  {
   "cell_type": "markdown",
   "id": "c6967bcc-de2d-4f0b-a6c1-a314f13612d3",
   "metadata": {},
   "source": [
    "#### Descriptive Statistics\r",
    " \n",
    "-  Count: There are 70460 non-missing price entrie.\n",
    "- Mean Price: The average price is approximate2.5353 crore\n",
    "- Median Price: The median (or 50th percentile) price1.521.52 cror\n",
    "- Standard Deviation: The prices have a standard deviation of 2.98, indicating variability in the pri\n",
    "- Range: Prices range from a minimum of 0.07 crores to a maximum of 31.5 cr ores.\n",
    "- IQR: The interquartile range (difference between 75th and 25th percentile) is from 0.95 crores to 2.75 c\n",
    "  \n",
    "#### Visualizations:\n",
    "- Distribution: The histogram indicates that most properties are priced in the lower range (below 5 crores), with a few properties going beyond \n",
    "10 crores\n",
    "- Box Plot: The box plot showcases the spread of the data and potential outliers. Properties priced above approximately 10 crores might be -considered outliers as they lie beyond the upper whisker of the box plot.\n",
    "- Missing Values:6There are 16 missing values in the price column. ice column."
   ]
  },
  {
   "cell_type": "code",
   "execution_count": 92,
   "id": "3cabcf42-afbd-4a17-9cac-1b4bc0cd0219",
   "metadata": {},
   "outputs": [
    {
     "name": "stdout",
     "output_type": "stream",
     "text": [
      "3.274617059032142 14.932685783602167\n"
     ]
    }
   ],
   "source": [
    "# lets check skewness and kurtosis\n",
    "skewness = df.price_cr.skew()\n",
    "kurtosis = df.price_cr.kurt()\n",
    "print(skewness,kurtosis)"
   ]
  },
  {
   "cell_type": "markdown",
   "id": "084553bf-a333-4b4a-bb44-24e53889d951",
   "metadata": {},
   "source": [
    "- Skewness: The price distribution has a skewness of approximately 3.28, indicating a positive skew. This means that the distribution tail is skewed to the right, which aligns with our observation from the histogram where most properties have prices on the lower end with a few high-priced properties.\r\n",
    "- \r\n",
    "Kurtosis: The kurtosis value is approximately 14.93. A kurtosis value greater than 3 indicates a distribution with heavier tails and more outliers compared to a normal distribution."
   ]
  },
  {
   "cell_type": "code",
   "execution_count": 103,
   "id": "8294f572-7bc1-4eda-a03b-6e06788c34b3",
   "metadata": {
    "scrolled": true
   },
   "outputs": [
    {
     "data": {
      "text/plain": [
       "0.01     0.250\n",
       "0.05     0.370\n",
       "0.25     0.950\n",
       "0.50     1.520\n",
       "0.75     2.750\n",
       "0.95     8.500\n",
       "0.99    15.097\n",
       "Name: price_cr, dtype: float64"
      ]
     },
     "execution_count": 103,
     "metadata": {},
     "output_type": "execute_result"
    }
   ],
   "source": [
    "# quantile analysis\n",
    "df.price_cr.quantile([0.01,0.05,0.25,0.50,0.75,0.95,0.99])"
   ]
  },
  {
   "cell_type": "markdown",
   "id": "84e04c7e-a278-48f0-84dc-f301c0e45f93",
   "metadata": {},
   "source": [
    "Quantile Analysis:\r\n",
    "- 1% Quantile: Only 1% of properties are priced below 0.25 crores.\n",
    "- 5% Quantile: 5% of properties are priced below 0.37 crores.\n",
    "- 95% Quantile: 95% of properties are priced below 8.5 crores.\n",
    "- 99% Quantile: 99% of properties are priced below 15.097 crores, indicating that very few properties are priced above this value.\n",
    "ralue."
   ]
  },
  {
   "cell_type": "code",
   "execution_count": 108,
   "id": "f752886c-0d71-4cd2-8261-37118400d97a",
   "metadata": {},
   "outputs": [
    {
     "data": {
      "text/plain": [
       "1.8"
      ]
     },
     "execution_count": 108,
     "metadata": {},
     "output_type": "execute_result"
    }
   ],
   "source": [
    "# identify potential outliers using IQR method \n",
    "Q1 = df.price_cr.describe()['25%']\n",
    "Q3 = df.price_cr.describe()['75%']\n",
    "IQR = Q3 - Q1\n",
    "\n",
    "IQR"
   ]
  },
  {
   "cell_type": "code",
   "execution_count": 109,
   "id": "4dac5345-80f8-43dd-bae0-2864c3b23640",
   "metadata": {},
   "outputs": [
    {
     "name": "stdout",
     "output_type": "stream",
     "text": [
      "-1.7500000000000002 5.45\n"
     ]
    }
   ],
   "source": [
    "lower_bound =  Q1 - 1.5 * IQR\n",
    "upper_bound = Q3 + 1.5 * IQR\n",
    "\n",
    "print(lower_bound, upper_bound)"
   ]
  },
  {
   "cell_type": "code",
   "execution_count": 112,
   "id": "b94c42f6-0c31-4697-922f-aa261f2ab8f7",
   "metadata": {},
   "outputs": [
    {
     "data": {
      "text/plain": [
       "(431, 24)"
      ]
     },
     "execution_count": 112,
     "metadata": {},
     "output_type": "execute_result"
    }
   ],
   "source": [
    "outliers = df[(df.price_cr < lower_bound) | (df.price_cr > upper_bound)]\n",
    "outliers.shape"
   ]
  },
  {
   "cell_type": "code",
   "execution_count": 113,
   "id": "819528f3-259e-499c-b4a7-8406b20e70ff",
   "metadata": {},
   "outputs": [
    {
     "data": {
      "text/plain": [
       "count    431.000000\n",
       "mean       9.205893\n",
       "std        4.047999\n",
       "min        5.460000\n",
       "25%        6.450000\n",
       "50%        8.000000\n",
       "75%       10.555000\n",
       "max       31.500000\n",
       "Name: price_cr, dtype: float64"
      ]
     },
     "execution_count": 113,
     "metadata": {},
     "output_type": "execute_result"
    }
   ],
   "source": [
    "outliers.price_cr.describe()"
   ]
  },
  {
   "cell_type": "markdown",
   "id": "383abb1e-cdf1-4dd9-93f0-4b1ac842a607",
   "metadata": {},
   "source": [
    "#### outlier Analysis(using IQR method):\n",
    "\n",
    "- there are 431 properties considered as an outliers.\n",
    "- These outliers have avg price of approx 9.20 CR.\n",
    "- The range of outliers range from 5.46 to 31.5 cr"
   ]
  },
  {
   "cell_type": "code",
   "execution_count": 127,
   "id": "e3d69ffe-cddc-4fc8-b301-4e6bf04bbe03",
   "metadata": {},
   "outputs": [
    {
     "data": {
      "text/plain": [
       "0-1      1021\n",
       "1-2      1321\n",
       "2-3       512\n",
       "3-5       373\n",
       "5-10      347\n",
       "10-20     119\n",
       "20-50      11\n",
       "Name: price_cr, dtype: int64"
      ]
     },
     "execution_count": 127,
     "metadata": {},
     "output_type": "execute_result"
    },
    {
     "data": {
      "image/png": "[encoded data removed]",
      "text/plain": [
       "<Figure size 640x480 with 1 Axes>"
      ]
     },
     "metadata": {},
     "output_type": "display_data"
    }
   ],
   "source": [
    "# price binning \n",
    "bins = [0,1,2,3,5,10,20,50]\n",
    "\n",
    "bin_lables = [\"0-1\", \"1-2\", \"2-3\", \"3-5\", \"5-10\", \"10-20\", \"20-50\"]\n",
    "\n",
    "pd.cut(df.price_cr,bins = bins, labels = bin_lables,right=False).value_counts().sort_index().plot(kind='bar')\n",
    "pd.cut(df.price_cr,bins = bins, labels = bin_lables,right=False).value_counts().sort_index()"
   ]
  },
  {
   "cell_type": "code",
   "execution_count": 141,
   "id": "30360545-796a-428e-9ddb-4b752ca4d852",
   "metadata": {},
   "outputs": [
    {
     "data": {
      "image/png": "[encoded data removed]",
      "text/plain": [
       "<Figure size 640x480 with 1 Axes>"
      ]
     },
     "metadata": {},
     "output_type": "display_data"
    }
   ],
   "source": [
    "# ecdf plot \n",
    "ecdf = df.price_cr.value_counts().sort_index().cumsum() / len(df.price_cr)\n",
    "plt.plot(ecdf.index,ecdf,marker = '.',linestyle='none')\n",
    "plt.grid()"
   ]
  },
  {
   "cell_type": "code",
   "execution_count": null,
   "id": "471b0f4d-b865-4c41-ae8f-26f26f94bdf1",
   "metadata": {},
   "outputs": [],
   "source": []
  }
 ],
 "metadata": {
  "kernelspec": {
   "display_name": "Python 3 (ipykernel)",
   "language": "python",
   "name": "python3"
  },
  "language_info": {
   "codemirror_mode": {
    "name": "ipython",
    "version": 3
   },
   "file_extension": ".py",
   "mimetype": "text/x-python",
   "name": "python",
   "nbconvert_exporter": "python",
   "pygments_lexer": "ipython3",
   "version": "3.11.2"
  }
 },
 "nbformat": 4,
 "nbformat_minor": 5
}
